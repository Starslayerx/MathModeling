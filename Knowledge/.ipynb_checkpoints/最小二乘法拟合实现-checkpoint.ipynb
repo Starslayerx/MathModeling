{
 "cells": [
  {
   "cell_type": "markdown",
   "metadata": {},
   "source": [
    "## 最小二乘法拟合\n",
    "最小二乘法是一种数学优化技术，它通过最小化误差的平方和寻找数据的最佳函数匹配。  \n",
    "拟合关注的是目前的数据，尽量使已知的数据减少误差（拟合参差）。  \n",
    "而回归还要考虑的输入输出具有噪声，同时关注未来的数据，要使现在和未来可能出现的数据误差尽量小。"
   ]
  },
  {
   "cell_type": "markdown",
   "metadata": {},
   "source": [
    "- scipy.optimization 子模块提供了函数最小值(标量或多维)、曲线拟合和寻找等式的根的有用算法。在optimize模块中可以使用 leastsq() 对数据进行最小二乘拟合计算。  \n",
    "- leastsq() 函数传入误差计算函数和初始值，该初始值将作为误差计算函数的第一个参数传入。计算的结果是一个包含两个元素的元组，第一个元素是一个数组，表示拟合后的参数；第二个元素如果等于1、2、3、4中的其中一个整数，则拟合成功，否则将会返回 mesg。"
   ]
  },
  {
   "cell_type": "code",
   "execution_count": 1,
   "metadata": {},
   "outputs": [],
   "source": [
    "# 倒入模块\n",
    "import numpy as np\n",
    "import matplotlib.pyplot as plt\n",
    "from scipy.optimize import leastsq"
   ]
  },
  {
   "cell_type": "code",
   "execution_count": 2,
   "metadata": {},
   "outputs": [],
   "source": [
    "# 原函数\n",
    "def Fun(p, x):\n",
    "    a1, a2, a3 = p\n",
    "    return a1*x**2 + a2*x + a3\n",
    "\n",
    "# 参差\n",
    "def error(p, x, y):\n",
    "    return Fun(p, x) - y"
   ]
  },
  {
   "cell_type": "code",
   "execution_count": 5,
   "metadata": {},
   "outputs": [],
   "source": [
    "# 原始参数\n",
    "p_value = [-2, 5, 10]\n",
    "x = np.linspace(-10, 10, 100)\n",
    "\n",
    "# 加上随机噪声\n",
    "noise = np.random.randn(len(x)) # 产生一些0.几的小数\n",
    "y = Fun(p_value, x) + noise*2\n",
    "\n",
    "# 拟合的初始参数设置\n",
    "p0 = [0.1,-0.01,100] "
   ]
  },
  {
   "cell_type": "code",
   "execution_count": 6,
   "metadata": {},
   "outputs": [],
   "source": [
    "# 进行拟合\n",
    "para = leastsq(error, p0, args=(x, y))\n",
    "\n",
    "# para[0]为拟合后的参数，y_fitted为拟合得到的函数\n",
    "y_fitted = Fun(para[0], x)"
   ]
  },
  {
   "cell_type": "code",
   "execution_count": 8,
   "metadata": {},
   "outputs": [
    {
     "data": {
      "image/png": "[encoded data removed]",
      "text/plain": [
       "<Figure size 432x288 with 1 Axes>"
      ]
     },
     "metadata": {
      "needs_background": "light"
     },
     "output_type": "display_data"
    },
    {
     "name": "stdout",
     "output_type": "stream",
     "text": [
      "拟合得到的参数: [-1.99818393  4.99059444 10.18693857]\n"
     ]
    }
   ],
   "source": [
    "plt.figure\n",
    "plt.plot(x,y,'r', label = 'Original curve')\n",
    "plt.plot(x,y_fitted,'-b', label ='Fitted curve')\n",
    "plt.legend()\n",
    "plt.show()\n",
    "print('拟合得到的参数:', para[0])"
   ]
  },
  {
   "cell_type": "code",
   "execution_count": null,
   "metadata": {},
   "outputs": [],
   "source": []
  }
 ],
 "metadata": {
  "kernelspec": {
   "display_name": "Python 3",
   "language": "python",
   "name": "python3"
  },
  "language_info": {
   "codemirror_mode": {
    "name": "ipython",
    "version": 3
   },
   "file_extension": ".py",
   "mimetype": "text/x-python",
   "name": "python",
   "nbconvert_exporter": "python",
   "pygments_lexer": "ipython3",
   "version": "3.8.5"
  }
 },
 "nbformat": 4,
 "nbformat_minor": 4
}
